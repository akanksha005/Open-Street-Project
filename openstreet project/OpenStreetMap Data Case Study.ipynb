{
 "cells": [
  {
   "cell_type": "markdown",
   "metadata": {},
   "source": [
    "# OpenStreetMap Data Case Study\n"
   ]
  },
  {
   "cell_type": "markdown",
   "metadata": {},
   "source": [
    "### Map Area"
   ]
  },
  {
   "cell_type": "markdown",
   "metadata": {},
   "source": [
    "###### Melbourne,Australia (9,990.5 km2 )\n"
   ]
  },
  {
   "cell_type": "markdown",
   "metadata": {},
   "source": [
    "* https://www.openstreetmap.org/node/21579127#map=11/-37.8139/144.9632\n",
    "* https://mapzen.com/data/metro-extracts/metro/melbourne_australia/\n",
    "\n",
    "\n",
    "\n",
    "Chose this city randomely having metro extract greater than 50 Mb\n",
    "    "
   ]
  },
  {
   "cell_type": "markdown",
   "metadata": {
    "collapsed": true
   },
   "source": [
    "# Problems Encountered in Map Area(sample.osm)"
   ]
  },
  {
   "cell_type": "markdown",
   "metadata": {},
   "source": [
    "* Over­abbreviated street names (“_Intrepid Av_”)"
   ]
  },
  {
   "cell_type": "markdown",
   "metadata": {},
   "source": [
    "* Inconsistency in the Postal Code (\"_(3006;3130),3206Unset,38058_\")"
   ]
  },
  {
   "cell_type": "markdown",
   "metadata": {},
   "source": [
    "* “Incorrect” postal codes (Melbourne area zip codes all begin with “300” and postal codes must be 4 digit only however a large portion of all documented zip codes were outside this region.)  \n",
    "\n"
   ]
  },
  {
   "cell_type": "markdown",
   "metadata": {},
   "source": [
    "* Most of the cities are not part of Melbourne but present on the outskirt of Melbourne.(\"_Caroline Springs is a suburb of Melbourne, Victoria, Australia, 25 km west of Melbourne's Central Business District._\")"
   ]
  },
  {
   "cell_type": "markdown",
   "metadata": {},
   "source": [
    "* Typo Errors or City name Inconsistencies =>Misspelled city(\"_Moridalloc => Moriadlloc_ \")\n"
   ]
  },
  {
   "cell_type": "markdown",
   "metadata": {},
   "source": [
    "#### Over­abbreviated Street Names"
   ]
  },
  {
   "cell_type": "code",
   "execution_count": 16,
   "metadata": {
    "collapsed": false
   },
   "outputs": [
    {
     "name": "stdout",
     "output_type": "stream",
     "text": [
      "Total number of cities: 7220\n",
      "Total number of suburbs or Neighbouring areas: 6762\n",
      "{'Av': set(['Intrepid Av']),\n",
      " 'Gr': set(['McCarthy Gr']),\n",
      " 'St': set(['Queen St']),\n",
      " 'Stg': set(['Leigh Stg'])}\n",
      "\n",
      " Few suburbs:\n",
      "['Caroline Springs',\n",
      " 'North Warrandyte',\n",
      " 'Geelong',\n",
      " 'reservoir',\n",
      " 'Rosebud West']\n",
      "\n",
      " Misspelled City:\n",
      "['Moridalloc']\n",
      "\n",
      " Auditing in Street Names:\n",
      "Intrepid Av => Intrepid Avenue\n",
      "Leigh Stg => Leigh Street\n",
      "McCarthy Gr => McCarthy Grove\n",
      "Queen St => Queen Street\n"
     ]
    }
   ],
   "source": [
    "import xml.etree.cElementTree as ET\n",
    "from collections import defaultdict\n",
    "import re\n",
    "import pprint\n",
    "\n",
    "OSMFILE = \"sample.osm\"\n",
    "street_type_re = re.compile(r'\\b\\S+\\.?$', re.IGNORECASE)\n",
    "\n",
    "\n",
    "expected = [\"St\",\"St.\",\"Rd.\",\"Av\",\"Gr\",'Stg',\"Rd\"]\n",
    "\n",
    "cities =[\"\"]\n",
    "\n",
    "# UPDATE THIS VARIABLE\n",
    "mapping = { \"St\": \"Street\",\n",
    "            \"St.\": \"Street\",\n",
    "            \"Rd.\":\"Road\",\n",
    "            \"Av\":\"Avenue\",\n",
    "           \"Gr\":'Grove',\n",
    "           'Stg':\"Street\"\n",
    "            }\n",
    "\n",
    "\n",
    "def audit_street_type(street_types, street_name):\n",
    "    abbr=False\n",
    "    m = street_type_re.search(street_name)\n",
    "    if m:\n",
    "        street_type = m.group()\n",
    "        if street_type in expected:\n",
    "            abbr=True\n",
    "            street_types[street_type].add(street_name)\n",
    "    return abbr\n",
    "\n",
    "\n",
    "def is_street_name(elem):\n",
    "    return (elem.attrib['k'] == \"addr:street\")\n",
    "\n",
    "def audit(osmfile):\n",
    "    osm_file = open(osmfile, \"r\")\n",
    "    street_types = defaultdict(set)\n",
    "    for event, elem in ET.iterparse(osm_file, events=(\"start\",)):\n",
    "\n",
    "        if elem.tag == \"node\" or elem.tag == \"way\":\n",
    "            for tag in elem.iter(\"tag\"):\n",
    "                if is_street_name(tag):\n",
    "                    \n",
    "                    abbr=audit_street_type(street_types, tag.attrib['v'])\n",
    "                    if(abbr):\n",
    "                        tag.attrib['v']=update_name( tag.attrib['v'], mapping)\n",
    "                \n",
    "    osm_file.close()\n",
    "    return street_types\n",
    "\n",
    "def audit_city(filename):\n",
    "    osm_file = open(filename, \"r\") \n",
    "    count=0\n",
    "    cities=0\n",
    "    city_list = set()\n",
    "    for event, elem in ET.iterparse(osm_file, events=(\"start\",)):\n",
    "        if elem.tag == \"node\" or elem.tag == \"way\":\n",
    "            for tag in elem.iter(\"tag\"):\n",
    "                if tag.attrib['k'] == \"addr:city\":\n",
    "                    cities=cities+1\n",
    "                if tag.attrib['k'] == \"addr:city\" and tag.attrib['v'] != \"Melbourne\":\n",
    "                    count=count+1\n",
    "                    city_list.add(tag.attrib['v'])\n",
    "    print \"Total number of cities: \"+ str(cities)\n",
    "    print \"Total number of suburbs or Neighbouring areas: \"+str(count)\n",
    "    return city_list\n",
    "\n",
    "def update_name(name, mapping):\n",
    "    m = street_type_re.search(name)\n",
    "    for key,value in (mapping).iteritems():\n",
    "        if key==m.group():\n",
    "           name=name.replace(key,value)\n",
    "        \n",
    "\n",
    "    return name\n",
    "\n",
    "\n",
    "def test():\n",
    "    st_types = audit(OSMFILE)\n",
    "    city_list = audit_city(OSMFILE)\n",
    "    pprint.pprint(dict(st_types))\n",
    "#     pprint.pprint(city_list)\n",
    "    print \"\\n Few suburbs:\"\n",
    "    pprint.pprint([[x for x in city_list][j] for j in range(5)] )\n",
    "    print \"\\n Misspelled City:\"\n",
    "    pprint.pprint([x for x in city_list if(x==\"Moridalloc\")] )\n",
    "    print \"\\n After Auditing Street Names:\"\n",
    "    for st_type, ways in st_types.iteritems():\n",
    "        for name in ways:\n",
    "            better_name = update_name(name, mapping)\n",
    "            print name, \"=>\", better_name\n",
    "\n",
    "\n",
    "if __name__ == '__main__':\n",
    "    test()"
   ]
  },
  {
   "cell_type": "markdown",
   "metadata": {},
   "source": [
    "# Suburbs near Melbourne\n",
    "Most of the cities are few Kms distant from main city of Melbourne.The 90% of datset comprises of suburbs of Melbourne i.e. is the a separate residential community within commuting distance of a city of Melbourne."
   ]
  },
  {
   "cell_type": "markdown",
   "metadata": {},
   "source": [
    "# Inconsistency in Postal Code"
   ]
  },
  {
   "cell_type": "markdown",
   "metadata": {},
   "source": [
    "When auditing the postal code removed the unwanted text and found the sets to postal codes then took the first postal code more relavant to describe the city."
   ]
  },
  {
   "cell_type": "code",
   "execution_count": 18,
   "metadata": {
    "collapsed": false
   },
   "outputs": [
    {
     "name": "stdout",
     "output_type": "stream",
     "text": [
      "After Auditing:\n",
      "3206Unset=>3206\n",
      "3006;3130=>3006\n",
      "\n",
      "\n",
      "List of Inconsistent Postal Codes:\n",
      "{'3006;3130': set(['3006;3130']),\n",
      " '3206Unset': set(['3206Unset']),\n",
      " '38058': set(['38058'])}\n"
     ]
    }
   ],
   "source": [
    "import xml.etree.cElementTree as ET\n",
    "from collections import defaultdict\n",
    "import re\n",
    "import pprint\n",
    "\n",
    "OSMFILE = \"sample.osm\"\n",
    "postal_type_re = re.compile(r'\\b\\S+\\.?$', re.IGNORECASE)\n",
    "zip_code_re = re.compile(r'^\\d{4}$')\n",
    "fix_zipcode_state_short = re.compile(r'\\d{4};\\d{4}$')\n",
    "\n",
    "\n",
    "def audit_postal_type(postal_types, postal_name):\n",
    "    m = postal_type_re.search(postal_name)\n",
    "    if m:\n",
    "        postal_type = m.group()\n",
    "        if len(postal_type)>4 or len(postal_type)<4:\n",
    "            postal_types[postal_type].add(postal_name)\n",
    "\n",
    "def audit_zip_code(zip_code):\n",
    "    change=False\n",
    "    new_code=zip_code\n",
    "    zip_code = zip_code.strip()\n",
    "    \n",
    "    m = zip_code_re.search(zip_code)\n",
    "    if zip_code[4:9] == 'Unset':\n",
    "        change=True\n",
    "        new_code = zip_code[0:4]\n",
    "        return change,new_code,zip_code\n",
    "    if fix_zipcode_state_short.search(zip_code):\n",
    "        change=True\n",
    "        new_code = zip_code[0:4]\n",
    "        return change,new_code,zip_code\n",
    "    if m:\n",
    "        return change,new_code,zip_code\n",
    "    if zip_code=='':\n",
    "        return True,\"none\",\"none\"\n",
    "    else:\n",
    "        return change,new_code,zip_code\n",
    "\n",
    "\n",
    "def is_postal_name(elem):\n",
    "    return (elem.attrib['k'] == \"addr:postcode\")\n",
    "\n",
    "\n",
    "def audit(osmfile):\n",
    "    osm_file = open(osmfile, \"r\")\n",
    "    postal_types = defaultdict(set)\n",
    "    print \"After Auditing:\"\n",
    "    for event, elem in ET.iterparse(osm_file, events=(\"start\",)):\n",
    "\n",
    "        if elem.tag == \"node\" or elem.tag == \"way\":\n",
    "            for tag in elem.iter(\"tag\"):\n",
    "                if is_postal_name(tag):\n",
    "                    audit_postal_type(postal_types, tag.attrib['v'])\n",
    "                    c,n,code=audit_zip_code(tag.attrib['v'])\n",
    "                    if c:\n",
    "                       \n",
    "                        print str(tag.attrib['v']) +\"=>\"+str(n)\n",
    "    osm_file.close()\n",
    "    return postal_types\n",
    "\n",
    "\n",
    "\n",
    "def test():\n",
    "    postal_types = audit(OSMFILE)\n",
    "    print \"\\n\"\n",
    "    print \"Inconsistent Postal Codes:\"\n",
    "    pprint.pprint(dict(postal_types))\n",
    "\n",
    "if __name__ == '__main__':\n",
    "    test()"
   ]
  },
  {
   "cell_type": "markdown",
   "metadata": {},
   "source": [
    "Now applying sql queries on smaller database from *sample1.osm* "
   ]
  },
  {
   "cell_type": "code",
   "execution_count": null,
   "metadata": {
    "collapsed": true
   },
   "outputs": [],
   "source": [
    "SELECT tags.value, COUNT(*) as count \n",
    "FROM (SELECT * FROM nodes_tags \n",
    "      UNION ALL \n",
    "      SELECT * FROM ways_tags) tags\n",
    "WHERE tags.key='postcode'\n",
    "GROUP BY tags.value\n",
    "ORDER BY count DESC lIMIT 10;"
   ]
  },
  {
   "cell_type": "markdown",
   "metadata": {},
   "source": [
    "Here are the top ten results, beginning with the highest count:"
   ]
  },
  {
   "cell_type": "code",
   "execution_count": null,
   "metadata": {
    "collapsed": true
   },
   "outputs": [],
   "source": [
    "3150,213\n",
    "3195,105\n",
    "3152,81\n",
    "3805,73\n",
    "3094,37\n",
    "3149,27\n",
    "3168,26\n",
    "3196,23\n",
    "3088,21\n",
    "3170,20"
   ]
  },
  {
   "cell_type": "markdown",
   "metadata": {},
   "source": [
    "considering these postal codes from sample1,I checked them on \n",
    "https://postcodes-australia.com/\n",
    "and found that most of them or not even in melbourne.\n",
    "That struck me as surprisingly high to be a blatant error, and found that the number one postal code “3150” lie in Glen Waverley, SC. So, I performed another aggregation to verify a certain suspicion..."
   ]
  },
  {
   "cell_type": "markdown",
   "metadata": {},
   "source": [
    "### Sort cities by count, descending"
   ]
  },
  {
   "cell_type": "code",
   "execution_count": null,
   "metadata": {
    "collapsed": true
   },
   "outputs": [],
   "source": [
    "sqlite> SELECT tags.value, COUNT(*) as count \n",
    "FROM (SELECT * FROM nodes_tags UNION ALL \n",
    "      SELECT * FROM ways_tags) tags\n",
    "WHERE tags.key LIKE '%city'\n",
    "GROUP BY tags.value\n",
    "ORDER BY count DESC\n",
    "LMIT 10;"
   ]
  },
  {
   "cell_type": "markdown",
   "metadata": {},
   "source": [
    "And, the top 10 results were:"
   ]
  },
  {
   "cell_type": "code",
   "execution_count": null,
   "metadata": {
    "collapsed": true
   },
   "outputs": [],
   "source": [
    "Glen Waverley|129\n",
    "Wheelers Hill|66\n",
    "Wantirna South|62\n",
    "Mount Waverley|39\n",
    "Melbourne|37\n",
    "Montmorency|37\n",
    "Mulgrave|20\n",
    "Scoresby|16\n",
    "Vermont South|16\n",
    "Clayton|13"
   ]
  },
  {
   "cell_type": "markdown",
   "metadata": {},
   "source": [
    "These results confirmed my suspicion that this metro extract would perhaps be more aptly named “Metrolina” or the “Melbourne Metropolitan Area” for its inclusion of surrounding cities in the sprawl."
   ]
  },
  {
   "cell_type": "markdown",
   "metadata": {},
   "source": [
    "## Data Overview and Additional Ideas"
   ]
  },
  {
   "cell_type": "markdown",
   "metadata": {},
   "source": [
    "This section contains basic statistics about the dataset from *sample1.osm*, the sql queries used to gather them, and some additional ideas about the data in context."
   ]
  },
  {
   "cell_type": "markdown",
   "metadata": {},
   "source": [
    "### File sizes"
   ]
  },
  {
   "cell_type": "code",
   "execution_count": 5,
   "metadata": {
    "collapsed": false
   },
   "outputs": [
    {
     "name": "stdout",
     "output_type": "stream",
     "text": [
      ".DS_Store...............................: 6K   \n",
      "melbourne_australia.osm.................: 818M \n",
      "nodes.csv...............................: 3M   \n",
      "nodes.db................................: 2M   \n",
      "nodes_tags.csv..........................: 287K \n",
      "node_tags.db............................: 305K \n",
      "sample.osm..............................: 82M  \n",
      "sample1.osm.............................: 8M   \n",
      "sqlite3.exe.............................: 655K \n",
      "ways.csv................................: 309K \n",
      "ways.db.................................: 292K \n",
      "ways.db,nodes.db........................: 0B   \n",
      "ways.db,nodes.db;.......................: 0B   \n",
      "ways_nodes.csv..........................: 1M   \n",
      "ways_tags.csv...........................: 483K \n",
      "ways_tags.db............................: 508K \n"
     ]
    }
   ],
   "source": [
    "from pprint import pprint\n",
    "import os\n",
    "from hurry.filesize import size\n",
    "#put your own path of folder for which size of file has to be computed\n",
    "dirpath = 'C:\\Users\\AKANKSHA\\Desktop\\udacity\\openstreet project\\sqlite_windows'\n",
    "\n",
    "files_list = []\n",
    "for path, dirs, files in os.walk(dirpath):\n",
    "    files_list.extend([(filename, size(os.path.getsize(os.path.join(path, filename)))) for filename in files])\n",
    "\n",
    "for filename, size in files_list:\n",
    "    print '{:.<40s}: {:5s}'.format(filename,size)"
   ]
  },
  {
   "cell_type": "markdown",
   "metadata": {},
   "source": [
    "### Number of nodes(nodes.db)"
   ]
  },
  {
   "cell_type": "code",
   "execution_count": null,
   "metadata": {
    "collapsed": true
   },
   "outputs": [],
   "source": [
    "sqlite> SELECT COUNT(*) FROM nodes;"
   ]
  },
  {
   "cell_type": "raw",
   "metadata": {},
   "source": [
    "38363"
   ]
  },
  {
   "cell_type": "markdown",
   "metadata": {},
   "source": [
    "### Number of ways(ways.db)"
   ]
  },
  {
   "cell_type": "code",
   "execution_count": null,
   "metadata": {
    "collapsed": true
   },
   "outputs": [],
   "source": [
    "sqlite> SELECT COUNT(*) FROM ways;"
   ]
  },
  {
   "cell_type": "markdown",
   "metadata": {},
   "source": [
    "5287"
   ]
  },
  {
   "cell_type": "markdown",
   "metadata": {},
   "source": [
    "### Number of unique users\n"
   ]
  },
  {
   "cell_type": "markdown",
   "metadata": {},
   "source": [
    "Using Sql:"
   ]
  },
  {
   "cell_type": "code",
   "execution_count": null,
   "metadata": {
    "collapsed": true
   },
   "outputs": [],
   "source": [
    "sqlite> SELECT COUNT(DISTINCT(e.uid))          \n",
    "FROM (SELECT uid FROM nodes UNION ALL SELECT uid FROM ways) e;"
   ]
  },
  {
   "cell_type": "markdown",
   "metadata": {},
   "source": [
    "769"
   ]
  },
  {
   "cell_type": "markdown",
   "metadata": {
    "collapsed": true
   },
   "source": [
    "### Top 10 contributing users"
   ]
  },
  {
   "cell_type": "code",
   "execution_count": null,
   "metadata": {
    "collapsed": true
   },
   "outputs": [],
   "source": [
    "sqlite> SELECT e.user, COUNT(*) as num\n",
    "FROM (SELECT user FROM nodes UNION ALL SELECT user FROM ways) e\n",
    "GROUP BY e.user\n",
    "ORDER BY num DESC\n",
    "LIMIT 10;"
   ]
  },
  {
   "cell_type": "code",
   "execution_count": null,
   "metadata": {
    "collapsed": true
   },
   "outputs": [],
   "source": [
    "CloCkWeRX|11871\n",
    "Leon K|4539\n",
    "melb_guy|2883\n",
    "Glen|1844\n",
    "AlexOnTheBus|1346\n",
    "stevage|927\n",
    "Canley|873\n",
    "dssis1|781\n",
    "Supt_of_Printing|766\n",
    "nickbarker|744"
   ]
  },
  {
   "cell_type": "markdown",
   "metadata": {},
   "source": [
    "### Number of users appearing only once (having 1 post)"
   ]
  },
  {
   "cell_type": "code",
   "execution_count": null,
   "metadata": {
    "collapsed": true
   },
   "outputs": [],
   "source": [
    "sqlite> SELECT COUNT(*) \n",
    "FROM\n",
    "    (SELECT e.user, COUNT(*) as num\n",
    "     FROM (SELECT user FROM nodes UNION ALL SELECT user FROM ways) e\n",
    "     GROUP BY e.user\n",
    "     HAVING num=1)  u;"
   ]
  },
  {
   "cell_type": "markdown",
   "metadata": {},
   "source": [
    "314"
   ]
  },
  {
   "cell_type": "markdown",
   "metadata": {},
   "source": [
    "## Additional Data Exploration"
   ]
  },
  {
   "cell_type": "markdown",
   "metadata": {},
   "source": [
    "### Top 10 appearing amenities"
   ]
  },
  {
   "cell_type": "code",
   "execution_count": null,
   "metadata": {
    "collapsed": true
   },
   "outputs": [],
   "source": [
    "sqlite> SELECT value, COUNT(*) as num\n",
    "FROM node_tags\n",
    "WHERE key='amenity'\n",
    "GROUP BY value\n",
    "ORDER BY num DESC\n",
    "LIMIT 10;"
   ]
  },
  {
   "cell_type": "code",
   "execution_count": null,
   "metadata": {
    "collapsed": true
   },
   "outputs": [],
   "source": [
    "bench,20\n",
    "cafe,14\n",
    "parking,14\n",
    "restaurant,14\n",
    "toilets,12\n",
    "waste_basket,11\n",
    "bbq,9\n",
    "pub,9\n",
    "drinking_water,8\n",
    "bicycle_parking,7"
   ]
  },
  {
   "cell_type": "markdown",
   "metadata": {},
   "source": [
    "### Biggest religion (no surprise here)\n",
    "\n"
   ]
  },
  {
   "cell_type": "code",
   "execution_count": null,
   "metadata": {
    "collapsed": true
   },
   "outputs": [],
   "source": [
    "sqlite> SELECT nodes_tags.value, COUNT(*) as num\n",
    "FROM nodes_tags \n",
    "    JOIN (SELECT DISTINCT(id) FROM nodes_tags WHERE value='place_of_worship') i\n",
    "    ON nodes_tags.id=i.id\n",
    "WHERE nodes_tags.key='religion'\n",
    "GROUP BY nodes_tags.value\n",
    "ORDER BY num DESC\n",
    "LIMIT 1;"
   ]
  },
  {
   "cell_type": "code",
   "execution_count": null,
   "metadata": {
    "collapsed": true
   },
   "outputs": [],
   "source": [
    "christian|2\n",
    "scientologist|1"
   ]
  },
  {
   "cell_type": "markdown",
   "metadata": {},
   "source": [
    "### Most popular cuisines"
   ]
  },
  {
   "cell_type": "code",
   "execution_count": null,
   "metadata": {
    "collapsed": true
   },
   "outputs": [],
   "source": [
    "SELECT node_tags.value, COUNT(*) as num\n",
    "FROM node_tags \n",
    "    JOIN (SELECT DISTINCT(id) FROM node_tags WHERE value='restaurant') i\n",
    "    ON node_tags.id=i.id\n",
    "WHERE node_tags.key='cuisine'\n",
    "GROUP BY node_tags.value\n",
    "ORDER BY num DESC;\n",
    "\n",
    "Sushi_Bar|1\n",
    "chinese;vietnamese|1\n",
    "italian|1\n",
    "japanese;chinese|1"
   ]
  },
  {
   "cell_type": "markdown",
   "metadata": {},
   "source": [
    "### Contributor statistics \n",
    "\n",
    "The contributions of users seems incredibly skewed, possibly due to automated versus manual map editing (the word “bot” appears in some usernames). Here are some user percentage statistics:\n",
    "\n",
    "* Top user contribution percentage (“CloCkWeRX”) 27.19%\n",
    "* Combined top 2 users' contribution (“CloCkWeRX” and “Leon K”)37.5%\n",
    "* Combined Top 10 users contribution 60.8%\n",
    "* Combined number of users making up only 1% of posts(about 41% of all users)\n",
    "\n",
    "## Conclusion\n",
    "The OpenStreetMap data of Melbourne is of fairly reasonable quality but the typo errors caused by the human inputs are\n",
    "significant as it can be seen in the Postal codes (_3206Unset_) and city names (_Moridalloc_). We have cleaned a significant amount of the data which is required for this project. But, there are lots of improvement needed in the dataset.This metro extract would perhaps be more aptly named “Metrolina” or the “Melbourne Metropolitan Area” for its inclusion of surrounding cities in the sprawl.This is proved by the cities and the postal codes of Neighbouring regions.The dataset contains very less amount of additional information such as amenities, tourist attractions, popular places and other useful interest.\n",
    "So, I think there are several opportunities for cleaning and validation of the data in the future.\n",
    "\n",
    "\n",
    "After this review of the data it’s obvious that the melbourne area is incomplete,though I believe it has been well cleaned for the purposes of this exercise. It interests me to notice a fair amount of GPS data makes it into OpenStreetMap.org on account of users’ efforts."
   ]
  },
  {
   "cell_type": "markdown",
   "metadata": {},
   "source": [
    "## Additional Ideas"
   ]
  },
  {
   "cell_type": "markdown",
   "metadata": {},
   "source": [
    "\n",
    "\n",
    "**Gamification: encouraging user participation through incentives** \n",
    "\n",
    "* Thinking about these user percentages, I’m reminded of “gamification” as a motivating force for contribution. In the context of the OpenStreetMap, if user data were more prominently displayed, perhaps others would take an initiative in submitting more edits to the map. And, if everyone sees that only a handful of power users are creating more than 90% a of given map, that might spur the creation of more efficient bots, especially if certain gamification elements were present, such as rewards, badges, or a leaderboard.\n",
    "* They can keep competition where the person who found the problems and auditted the data appropriately will be provided prizez.(For Example: Kaggle where there are competitions for finding best results)\n",
    "\n",
    "**Clean Typo Errors **\n",
    "\n",
    "* We can build parser which parse every word input by the users.\n",
    "* We can make some rules or patterns to input data which users follow everytime to input their data. This will also restrict\n",
    "  users input in their native language.\n",
    "* We can develope script or bot to clean the data regularly or certain period.\n",
    "\n",
    "**More Information from users**\n",
    "* The tourists or even the city people search map to see the basic amenities provided in the city or what are the popular\n",
    "  places and attractions in the city or near outside the city. So, the users must be motivated to also provide these   informations in the map.Motivation can be incentives.\n",
    "* If we can provide these informations then there are more chances to increase views on the map because many people\n",
    " directly enter the famous name on the map."
   ]
  }
 ],
 "metadata": {
  "anaconda-cloud": {},
  "kernelspec": {
   "display_name": "Python 2",
   "language": "python",
   "name": "python2"
  },
  "language_info": {
   "codemirror_mode": {
    "name": "ipython",
    "version": 2
   },
   "file_extension": ".py",
   "mimetype": "text/x-python",
   "name": "python",
   "nbconvert_exporter": "python",
   "pygments_lexer": "ipython2",
   "version": "2.7.12"
  }
 },
 "nbformat": 4,
 "nbformat_minor": 2
}
